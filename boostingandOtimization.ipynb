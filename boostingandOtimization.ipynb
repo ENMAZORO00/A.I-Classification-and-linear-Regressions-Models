{
  "nbformat": 4,
  "nbformat_minor": 0,
  "metadata": {
    "colab": {
      "provenance": []
    },
    "kernelspec": {
      "name": "python3",
      "display_name": "Python 3"
    },
    "language_info": {
      "name": "python"
    }
  },
  "cells": [
    {
      "cell_type": "code",
      "execution_count": 11,
      "metadata": {
        "colab": {
          "base_uri": "https://localhost:8080/",
          "height": 465
        },
        "id": "pmb8seEi61l-",
        "outputId": "d35e42b1-4558-4949-b068-0b5b9025f3a2"
      },
      "outputs": [
        {
          "output_type": "stream",
          "name": "stdout",
          "text": [
            "[[68  2]\n",
            " [ 3 41]]\n"
          ]
        },
        {
          "output_type": "display_data",
          "data": {
            "text/plain": [
              "<Figure size 640x480 with 1 Axes>"
            ],
            "image/png": "[encoded data removed]"
          },
          "metadata": {}
        }
      ],
      "source": [
        "import pandas as pd\n",
        "dataset=pd.read_csv(\"cancer.csv\")\n",
        "x=dataset.iloc[:,2:29].values\n",
        "y=dataset.iloc[:,1].values\n",
        "\n",
        "from sklearn.model_selection import train_test_split\n",
        "x_train,x_test,y_train,y_test=train_test_split(x,y,test_size=0.2)\n",
        "\n",
        "from sklearn.preprocessing import StandardScaler\n",
        "scaler=StandardScaler()\n",
        "x_train=scaler.fit_transform(x_train)\n",
        "x_test=scaler.fit_transform(x_test)\n",
        "\n",
        "from sklearn.decomposition import PCA\n",
        "pca=PCA(n_components=1)\n",
        "x_train_scaled=pca.fit_transform(x_train)\n",
        "\n",
        "\n",
        "import matplotlib.pyplot as plt\n",
        "plt.scatter(x_train_scaled,y_train)\n",
        "\n",
        "from sklearn.ensemble import GradientBoostingClassifier\n",
        "gradientboost=GradientBoostingClassifier()\n",
        "gradientboost.fit(x_train,y_train)\n",
        "\n",
        "y_preds=gradientboost.predict(x_test)\n",
        "from sklearn.metrics import confusion_matrix\n",
        "print(confusion_matrix(y_test,y_preds))"
      ]
    }
  ]
}