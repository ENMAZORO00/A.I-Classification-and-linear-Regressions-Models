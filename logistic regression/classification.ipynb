{
  "nbformat": 4,
  "nbformat_minor": 0,
  "metadata": {
    "colab": {
      "provenance": []
    },
    "kernelspec": {
      "name": "python3",
      "display_name": "Python 3"
    },
    "language_info": {
      "name": "python"
    }
  },
  "cells": [
    {
      "cell_type": "code",
      "execution_count": 8,
      "metadata": {
        "colab": {
          "base_uri": "https://localhost:8080/"
        },
        "id": "78fMj-OkuMNu",
        "outputId": "c09ef084-3f0c-4044-e907-5ea413fbe080"
      },
      "outputs": [
        {
          "output_type": "stream",
          "name": "stdout",
          "text": [
            "[[66  0]\n",
            " [ 3 45]]\n"
          ]
        }
      ],
      "source": [
        "import pandas as pd\n",
        "dataset=pd.read_csv(\"cancer.csv\")\n",
        "\n",
        "x=dataset.iloc[:,2:29].values\n",
        "y=dataset.iloc[:,1].values\n",
        "\n",
        "from sklearn.model_selection import train_test_split\n",
        "x_train,x_test,y_train,y_test=train_test_split(x,y,test_size=0.2)\n",
        "\n",
        "from sklearn.preprocessing import StandardScaler\n",
        "scaler=StandardScaler()\n",
        "x_train=scaler.fit_transform(x_train)\n",
        "x_test=scaler.fit_transform(x_test)\n",
        "\n",
        "from sklearn.linear_model import LogisticRegression\n",
        "\n",
        "logistic_classifier=LogisticRegression()\n",
        "logistic_classifier.fit(x_train,y_train)\n",
        "\n",
        "y_preds=logistic_classifier.predict(x_test)\n",
        "from sklearn.metrics import confusion_matrix\n",
        "print(confusion_matrix(y_test,y_preds))"
      ]
    }
  ]
}